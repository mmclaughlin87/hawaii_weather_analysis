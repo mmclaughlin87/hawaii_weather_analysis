{
 "cells": [
  {
   "cell_type": "code",
   "execution_count": 1,
   "metadata": {
    "collapsed": true
   },
   "outputs": [],
   "source": [
    "# import dependencies\n",
    "import pandas as pd\n",
    "import sqlalchemy\n",
    "from sqlalchemy.ext.automap import automap_base\n",
    "from sqlalchemy.orm import Session\n",
    "from sqlalchemy import create_engine, inspect, func\n",
    "\n",
    "import datetime\n",
    "import matplotlib.pyplot as plt"
   ]
  },
  {
   "cell_type": "code",
   "execution_count": 2,
   "metadata": {
    "collapsed": true
   },
   "outputs": [],
   "source": [
    "# reflect database tables (Measurment & Station) into classes\n",
    "engine = create_engine(\"sqlite:///hawaii.sqlite\", echo=False)\n",
    "\n",
    "Base = automap_base()\n",
    "Base.prepare(engine, reflect=True)\n",
    "Measurement = Base.classes.measurement\n",
    "Station = Base.classes.station\n",
    "\n",
    "session = Session(engine)"
   ]
  },
  {
   "cell_type": "code",
   "execution_count": 3,
   "metadata": {
    "collapsed": true
   },
   "outputs": [],
   "source": [
    "# plot last year's worth of precipitation\n",
    "\n",
    "current_datetime = datetime.datetime.now()\n",
    "year = datetime.timedelta(days=365)\n",
    "year_ago = current_datetime - year\n",
    "\n",
    "recent_prcp = session.query(Measurement.date, Measurement.prcp).filter(Measurement.date > year_ago).all()\n",
    "\n",
    "prcp_df = pd.DataFrame.from_records(recent_prcp, columns=['Date','Precipitation'])"
   ]
  },
  {
   "cell_type": "code",
   "execution_count": 4,
   "metadata": {
    "scrolled": true
   },
   "outputs": [
    {
     "data": {
      "image/png": "[encoded data removed]",
      "text/plain": [
       "<matplotlib.figure.Figure at 0x1833e8f4f60>"
      ]
     },
     "metadata": {},
     "output_type": "display_data"
    }
   ],
   "source": [
    "prcp_df.plot(kind='bar')\n",
    "plt.show()"
   ]
  },
  {
   "cell_type": "code",
   "execution_count": 5,
   "metadata": {},
   "outputs": [
    {
     "data": {
      "text/html": [
       "<div>\n",
       "<style>\n",
       "    .dataframe thead tr:only-child th {\n",
       "        text-align: right;\n",
       "    }\n",
       "\n",
       "    .dataframe thead th {\n",
       "        text-align: left;\n",
       "    }\n",
       "\n",
       "    .dataframe tbody tr th {\n",
       "        vertical-align: top;\n",
       "    }\n",
       "</style>\n",
       "<table border=\"1\" class=\"dataframe\">\n",
       "  <thead>\n",
       "    <tr style=\"text-align: right;\">\n",
       "      <th></th>\n",
       "      <th>Precipitation</th>\n",
       "    </tr>\n",
       "  </thead>\n",
       "  <tbody>\n",
       "    <tr>\n",
       "      <th>count</th>\n",
       "      <td>1257.000000</td>\n",
       "    </tr>\n",
       "    <tr>\n",
       "      <th>mean</th>\n",
       "      <td>0.166953</td>\n",
       "    </tr>\n",
       "    <tr>\n",
       "      <th>std</th>\n",
       "      <td>0.455506</td>\n",
       "    </tr>\n",
       "    <tr>\n",
       "      <th>min</th>\n",
       "      <td>0.000000</td>\n",
       "    </tr>\n",
       "    <tr>\n",
       "      <th>25%</th>\n",
       "      <td>0.000000</td>\n",
       "    </tr>\n",
       "    <tr>\n",
       "      <th>50%</th>\n",
       "      <td>0.000000</td>\n",
       "    </tr>\n",
       "    <tr>\n",
       "      <th>75%</th>\n",
       "      <td>0.110000</td>\n",
       "    </tr>\n",
       "    <tr>\n",
       "      <th>max</th>\n",
       "      <td>6.250000</td>\n",
       "    </tr>\n",
       "  </tbody>\n",
       "</table>\n",
       "</div>"
      ],
      "text/plain": [
       "       Precipitation\n",
       "count    1257.000000\n",
       "mean        0.166953\n",
       "std         0.455506\n",
       "min         0.000000\n",
       "25%         0.000000\n",
       "50%         0.000000\n",
       "75%         0.110000\n",
       "max         6.250000"
      ]
     },
     "execution_count": 5,
     "metadata": {},
     "output_type": "execute_result"
    }
   ],
   "source": [
    "# summary statistics for precipitation\n",
    "prcp_df.describe()"
   ]
  },
  {
   "cell_type": "code",
   "execution_count": 6,
   "metadata": {},
   "outputs": [
    {
     "data": {
      "text/plain": [
       "'USC00519281'"
      ]
     },
     "execution_count": 6,
     "metadata": {},
     "output_type": "execute_result"
    }
   ],
   "source": [
    "# query for the total number of stations\n",
    "station_count = session.query(Station.station).count()\n",
    "station_count\n",
    "\n",
    "# query for most active stations\n",
    "stations_by_activity = session.query(Measurement.station, func.count(Measurement.station))\\\n",
    "    .group_by(Measurement.station).order_by(func.count(Measurement.station).desc()).all()\n",
    "\n",
    "stations_df = pd.DataFrame.from_records(stations_by_activity, columns=['Station','Observations'])\n",
    "most_obs = stations_df[\"Station\"][stations_df[\"Observations\"].idxmax()]\n",
    "most_obs"
   ]
  },
  {
   "cell_type": "code",
   "execution_count": 7,
   "metadata": {},
   "outputs": [
    {
     "data": {
      "image/png": "[encoded data removed]",
      "text/plain": [
       "<matplotlib.figure.Figure at 0x183449d3860>"
      ]
     },
     "metadata": {},
     "output_type": "display_data"
    }
   ],
   "source": [
    "# plot the last 12 months of temperature data from the most active station\n",
    "\n",
    "recent_temps = session.query(Measurement.station, Measurement.date, Measurement.tobs)\\\n",
    "    .filter(Measurement.date > year_ago).filter(Measurement.station == most_obs).all()\n",
    "recent_temps_df = pd.DataFrame.from_records(recent_temps, columns=['Station','Date','Temperature'])\n",
    "\n",
    "recent_temps_df.plot(kind='hist', bins=12)\n",
    "plt.show()"
   ]
  },
  {
   "cell_type": "code",
   "execution_count": 8,
   "metadata": {},
   "outputs": [],
   "source": [
    "# Write a function called `calc_temps` that will accept start date and end date in the format '%Y-%m-%d' \n",
    "# and return the minimum, average, and maximum temperatures for that range of dates\n",
    "def calc_temps(start_date, end_date):\n",
    "    \"\"\"TMIN, TAVG, and TMAX for a list of dates.\n",
    "    \n",
    "    Args:\n",
    "        start_date (string): A date string in the format %Y-%m-%d\n",
    "        end_date (string): A date string in the format %Y-%m-%d\n",
    "        \n",
    "    Returns:\n",
    "        TMIN, TAVE, and TMAX\n",
    "    \"\"\"\n",
    "    \n",
    "    return session.query(func.min(Measurement.tobs), func.avg(Measurement.tobs), func.max(Measurement.tobs)).\\\n",
    "        filter(Measurement.date >= start_date).filter(Measurement.date <= end_date).all()"
   ]
  },
  {
   "cell_type": "code",
   "execution_count": 9,
   "metadata": {},
   "outputs": [
    {
     "data": {
      "image/png": "[encoded data removed]",
      "text/plain": [
       "<matplotlib.figure.Figure at 0x183428a5da0>"
      ]
     },
     "metadata": {},
     "output_type": "display_data"
    }
   ],
   "source": [
    "# Use the calc_temps function to calculate the min, avg, and max temperatures for your trip using the matching dates \n",
    "# from the previous year (i.e. use \"2017-01-01\" if your trip start date was \"2018-01-01\")\n",
    "\n",
    "trip_start = '2018-03-17'\n",
    "trip_end = '2018-03-24'\n",
    "\n",
    "last_year_start = datetime.datetime.strptime(trip_start, '%Y-%m-%d') - year\n",
    "start_date = last_year_start.strftime('%Y-%m-%d')\n",
    "last_year_end = datetime.datetime.strptime(trip_end, '%Y-%m-%d') - year\n",
    "end_date = last_year_end.strftime('%Y-%m-%d')\n",
    "\n",
    "trip_temps = calc_temps(start_date, end_date)\n",
    "min_temp, avg_temp, max_temp = trip_temps[0]\n",
    "\n",
    "plt.bar(0, avg_temp, yerr=max_temp-min_temp)\n",
    "plt.show()"
   ]
  },
  {
   "cell_type": "code",
   "execution_count": 16,
   "metadata": {},
   "outputs": [
    {
     "data": {
      "text/plain": [
       "[('USC00513117', 0.6),\n",
       " ('USC00514830', 0.15),\n",
       " ('USC00516128', 0.2),\n",
       " ('USC00519281', 0.22999999999999998),\n",
       " ('USC00519397', 0.02),\n",
       " ('USC00519523', 0.09000000000000001)]"
      ]
     },
     "execution_count": 16,
     "metadata": {},
     "output_type": "execute_result"
    }
   ],
   "source": [
    "# calculate the rainfall per weather station using the previous year's matching dates.\n",
    "trip_rain = session.query(Measurement.station, func.sum(Measurement.prcp))\\\n",
    "    .filter(Measurement.date >= last_year_start).filter(Measurement.date <= last_year_end).group_by(Measurement.station).all()\n",
    "trip_rain"
   ]
  },
  {
   "cell_type": "code",
   "execution_count": 51,
   "metadata": {},
   "outputs": [],
   "source": [
    "def daily_normals(date):\n",
    "    \"\"\"Calculates daily normals (average min, max, and average temp) for a provided date.\n",
    "    \n",
    "    Args:\n",
    "        date (string): A date string in the format %m-%d\n",
    "        \n",
    "    Returns:\n",
    "        TMIN, TAVE, and TMAX\n",
    "    \"\"\"\n",
    "    historic_norms = session.query(Measurement.date, func.min(Measurement.tobs), func.avg(Measurement.tobs),\\\n",
    "        func.max(Measurement.tobs)).filter(func.strftime('%m-%d', Measurement.date) == date).group_by(Measurement.date).all()\n",
    "    \n",
    "    \n",
    "    historic_norms_df = pd.DataFrame.from_records(historic_norms, columns=['Date','Min','Avg','Max'])\n",
    "    TMIN = historic_norms_df['Min'].mean()\n",
    "    TAVE = historic_norms_df['Avg'].mean()\n",
    "    TMAX = historic_norms_df['Max'].mean()\n",
    "    \n",
    "    \n",
    "    return (TMIN, TAVE, TMAX)"
   ]
  },
  {
   "cell_type": "code",
   "execution_count": 57,
   "metadata": {
    "scrolled": true
   },
   "outputs": [
    {
     "data": {
      "image/png": "[encoded data removed]",
      "text/plain": [
       "<matplotlib.figure.Figure at 0x183442c2358>"
      ]
     },
     "metadata": {},
     "output_type": "display_data"
    }
   ],
   "source": [
    "# trip_start = '2018-03-17'\n",
    "# trip_end = '2018-03-24'\n",
    "\n",
    "start_datetime = datetime.datetime.strptime(trip_start, '%Y-%m-%d')\n",
    "end_datetime = datetime.datetime.strptime(trip_end, '%Y-%m-%d')\n",
    "trip_length = (end_datetime - start_datetime).days\n",
    "\n",
    "trip_range = []\n",
    "\n",
    "for day in range(trip_length + 1):\n",
    "    trip_date = start_datetime + datetime.timedelta(days=day)\n",
    "    formatted_date = trip_date.strftime('%m-%d')\n",
    "    trip_range.append(formatted_date)\n",
    "\n",
    "daily_normals_list = []\n",
    "\n",
    "for date in trip_range:\n",
    "    normals = daily_normals(date)\n",
    "    daily_normals_list.append(normals)\n",
    "\n",
    "daily_normals_df = pd.DataFrame.from_records(daily_normals_list, columns=['TMIN','TAVE', 'TMAX'])\n",
    "daily_normals_df[\"Date\"] = trip_range\n",
    "daily_normals_df = daily_normals_df.set_index(\"Date\")\n",
    "daily_normals_df.plot(kind='area', stacked=False)\n",
    "plt.show()\n",
    "    "
   ]
  }
 ],
 "metadata": {
  "kernelspec": {
   "display_name": "Python 3",
   "language": "python",
   "name": "python3"
  },
  "language_info": {
   "codemirror_mode": {
    "name": "ipython",
    "version": 3
   },
   "file_extension": ".py",
   "mimetype": "text/x-python",
   "name": "python",
   "nbconvert_exporter": "python",
   "pygments_lexer": "ipython3",
   "version": "3.6.2"
  }
 },
 "nbformat": 4,
 "nbformat_minor": 2
}
